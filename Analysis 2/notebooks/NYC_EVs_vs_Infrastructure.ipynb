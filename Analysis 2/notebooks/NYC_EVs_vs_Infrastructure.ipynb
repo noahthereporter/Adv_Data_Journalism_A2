{
 "cells": [
  {
   "cell_type": "code",
   "execution_count": null,
   "id": "075c0837-f721-4f47-bf86-bdf1828eeb4a",
   "metadata": {},
   "outputs": [],
   "source": [
    "import pandas as pd\n",
    "import matplotlib.pyplot as plt"
   ]
  },
  {
   "cell_type": "markdown",
   "id": "1d883642-c0d3-457c-ab1a-3b480e404a38",
   "metadata": {},
   "source": [
    "I'm working with some data sets with a lot of columns, so I added this command to reveal all of them."
   ]
  },
  {
   "cell_type": "code",
   "execution_count": null,
   "id": "4e3db4d4-e1cf-4db6-bc23-1c696a09e815",
   "metadata": {},
   "outputs": [],
   "source": [
    "pd.set_option('display.max_columns', None)"
   ]
  },
  {
   "cell_type": "markdown",
   "id": "ac50feef-188e-4c81-a77b-cd36191bf61e",
   "metadata": {},
   "source": [
    "Here I imported the data and assigned it names. I also had to set the dtype for the ZIP column in the charger dataset as a string so I could later use those ZIP codes to filter chargers down to the city alone."
   ]
  },
  {
   "cell_type": "code",
   "execution_count": null,
   "id": "e69ea433-21ca-41f6-ba9e-df2d21739ca4",
   "metadata": {},
   "outputs": [],
   "source": [
    "ny_chargers = pd.read_csv('../data/Electric_Vehicle_Charging_Stations_in_New_York.csv', dtype={\"ZIP\": str})\n",
    "nyc_cars = pd.read_csv('../data/Vehicle__Snowmobile__and_Boat_Registrations_20241203.csv')"
   ]
  },
  {
   "cell_type": "markdown",
   "id": "aeb18df2-b739-4466-9a19-e949c875e7b4",
   "metadata": {},
   "source": [
    "I am checking for the formatting for the columns just to ensure I'm writing the next line peroperly."
   ]
  },
  {
   "cell_type": "code",
   "execution_count": null,
   "id": "e80b862a-7a1f-4d8e-89e0-8b7b030a9c05",
   "metadata": {
    "scrolled": true
   },
   "outputs": [],
   "source": [
    "nyc_cars.head()"
   ]
  },
  {
   "cell_type": "markdown",
   "id": "98381a81-42ee-4273-a086-2809f13e56cf",
   "metadata": {},
   "source": [
    "Now I'm writing a mass filter to get only the passenger vehicles from the five counties that make up NYC that are eletric."
   ]
  },
  {
   "cell_type": "code",
   "execution_count": null,
   "id": "e188f0af-d5ca-4747-b43c-05831238d06d",
   "metadata": {},
   "outputs": [],
   "source": [
    "nyc_evs_filtered = nyc_cars[\n",
    "    #This line filtered out other vehicle types like boats and snow mobiles.\n",
    "    (nyc_cars['Record Type'] == 'VEH') &\n",
    "    #This filtered the vehicles down to passenger vehicles, cutting out things like semis, box trucks, etc.\n",
    "    (nyc_cars['Registration Class'] == 'PAS') &\n",
    "    #This line filtered the entries by county of vehicle use to NYC. \n",
    "    (nyc_cars['County'].isin(['NEW YORK', 'KINGS', 'QUEENS', 'BRONX', 'RICHMOND'])) &\n",
    "    #This line filtered the registrations by the fuel type of eletric.\n",
    "    (nyc_cars['Fuel Type'] == 'ELECTRIC')\n",
    "]"
   ]
  },
  {
   "cell_type": "markdown",
   "id": "849a247b-2a96-4a2f-b7a4-0410734ebbee",
   "metadata": {},
   "source": [
    "Next, I'm checking to see if the filtering worked before I export it to a new df. While I could filter this data myself through the OpenData portal, I prefer to do it manually in code so that I can have the full, unmodified record file in storage, plus, they're changing the portal at the end of January, and I'm not sure what that future holds."
   ]
  },
  {
   "cell_type": "code",
   "execution_count": null,
   "id": "e7561453-78d6-4c84-b0e9-401a332f42f8",
   "metadata": {},
   "outputs": [],
   "source": [
    "nyc_evs_filtered.head()"
   ]
  },
  {
   "cell_type": "code",
   "execution_count": null,
   "id": "421687eb-2ae1-4f68-9c94-a4437007034e",
   "metadata": {},
   "outputs": [],
   "source": [
    "len(nyc_evs_filtered)"
   ]
  },
  {
   "cell_type": "markdown",
   "id": "b0e9eb9e-1aa5-47e2-b459-46f2591fdd07",
   "metadata": {},
   "source": [
    "All the filters appear to have worked sucessfully as this count matches what came out of the OpenData portal's filters.\n",
    "\n",
    "Now I'm going to preview the New York state charger listings and prepare to filter."
   ]
  },
  {
   "cell_type": "code",
   "execution_count": null,
   "id": "4b45f03a-f3c5-4464-aa4b-a81a36c6b978",
   "metadata": {},
   "outputs": [],
   "source": [
    "ny_chargers.head()"
   ]
  },
  {
   "cell_type": "markdown",
   "id": "fd6e5358-423c-475c-a480-d1ecb94c1856",
   "metadata": {},
   "source": [
    "So it appears there's not a county column on this dataset to use for filtering like in the state registration set. To filter, as tedious as this will be, I'm going to make five lists ZIP codes, one for each county, to be able to filter to their own dataframes, add a county column and concat into a df of the city's chargers.\n",
    "\n",
    "(ZIP codes were retriveved from https://www.zip-codes.com/ and were filtered by county. I then copied their five county tables into Google Sheets and pulled them out with the =RIGHT formula and added the ' ', with =\"'\" & CELL & \"',\" and pulled them in. [Google Sheet](https://docs.google.com/spreadsheets/d/1T9KsswpceAEB8igOB3k95JAsupEvjUtfvYjHGQ9XF8M/edit?usp=sharing)"
   ]
  },
  {
   "cell_type": "code",
   "execution_count": null,
   "id": "30da3868-8d49-42d8-87f6-909b0a0748b4",
   "metadata": {},
   "outputs": [],
   "source": [
    "bronx_zips = [\n",
    "    '10451', '10452', '10453', '10454', '10455', '10456', '10457', '10458', '10459', '10460'\n",
    "    '10461', '10462', '10463', '10464', '10465', '10466', '10467', '10468', '10469', '10470'\n",
    "    '10471', '10472', '10473', '10474', '10475',\n",
    "]    \n",
    "kings_zips = [\n",
    "    '11202', '11241', '11242', '11243', '11245', '11247', '11251', '11252', '11256', '11239',\n",
    "    '11232', '11231', '11222', '11249', '11217', '11228', '11224', '11237', '11205', '11225',\n",
    "    '11238', '11216', '11210', '11213', '11215', '11211', '11201', '11209', '11233', '11218',\n",
    "    '11203', '11223', '11229', '11204', '11235', '11221', '11230', '11206', '11212', '11234', \n",
    "    '11214', '11207', '11236', '11226', '11208', '11219', '11220',\n",
    "]\n",
    "newyork_zips = [\n",
    "    '10001', '10002', '10003', '10004', '10005', '10006', '10007', '10008', '10009', '10010',\n",
    "    '10011', '10012', '10013', '10014', '10016', '10017', '10018', '10019', '10020', '10021',\n",
    "    '10022', '10023', '10024', '10025', '10026', '10027', '10028', '10029', '10030', '10031',\n",
    "    '10032', '10033', '10034', '10035', '10036', '10037', '10038', '10039', '10040', '10041',\n",
    "    '10043', '10044', '10045', '10055', '10060', '10065', '10069', '10075', '10080', '10081',\n",
    "    '10087', '10090', '10101', '10102', '10103', '10104', '10105', '10106', '10107', '10108', \n",
    "    '10109', '10110', '10111', '10112', '10113', '10114', '10115', '10116', '10117', '10118',\n",
    "    '10119', '10120', '10121', '10122', '10123', '10124', '10125', '10126', '10128', '10129',\n",
    "    '10130', '10131', '10132', '10133', '10138', '10150', '10151', '10152', '10153', '10154',\n",
    "    '10155', '10156', '10157', '10158', '10159', '10160', '10162', '10163', '10164', '10165', \n",
    "    '10166', '10167', '10168', '10169', '10170', '10171', '10172', '10173', '10174', '10175',\n",
    "    '10176', '10177', '10178', '10179', '10185', '10199', '10203', '10211', '10212', '10213',\n",
    "    '10242', '10249', '10256', '10258', '10259', '10260', '10261', '10265', '10268', '10269',\n",
    "    '10270', '10271', '10272', '10273', '10274', '10275', '10276', '10277', '10278', '10279',\n",
    "    '10280', '10281', '10282', '10285', '10286',\n",
    "]\n",
    "queens_zips = [\n",
    "    '11004', '11005', '11101', '11102', '11103', '11104', '11105', '11106', '11109', '11120',\n",
    "    '11351', '11352', '11354', '11355', '11356', '11357', '11358', '11359', '11360', '11361',\n",
    "    '11362', '11363', '11364', '11365', '11366', '11367', '11368', '11369', '11370', '11371',\n",
    "    '11372', '11373', '11374', '11375', '11377', '11378', '11379', '11380', '11385', '11386',\n",
    "    '11405', '11411', '11412', '11413', '11414', '11415', '11416', '11417', '11418', '11419',\n",
    "    '11420', '11421', '11422', '11423', '11424', '11425', '11426', '11427', '11428', '11429',\n",
    "    '11430', '11431', '11432', '11433', '11434', '11435', '11436', '11437', '11439', '11451',\n",
    "    '11499', '11690', '11691', '11692', '11693', '11694', '11695', '11697',\n",
    "]\n",
    "richmond_zips = [\n",
    "    '10301', '10302', '10303', '10304', '10305', '10306', '10307', '10308', '10309', '10310',\n",
    "    '10311', '10312', '10313', '10314'\n",
    "]"
   ]
  },
  {
   "cell_type": "markdown",
   "id": "6deae7aa-41c2-416e-ba11-d851d1e0743d",
   "metadata": {},
   "source": [
    "Now I'm making those five dataframes! (I feel like there was probably a more streamlined way to do this, but I didn't want to mess up on this step, so I just did what I knew I could sucessfully.)"
   ]
  },
  {
   "cell_type": "code",
   "execution_count": null,
   "id": "5fc61ce0-50c6-40b0-b5c6-2920670f2dfc",
   "metadata": {},
   "outputs": [],
   "source": [
    "bronx_chargers = pd.DataFrame(ny_chargers.loc[ny_chargers[\"ZIP\"].isin(bronx_zips)])\n",
    "kings_chargers = pd.DataFrame(ny_chargers.loc[ny_chargers[\"ZIP\"].isin(kings_zips)])\n",
    "newyork_chargers = pd.DataFrame(ny_chargers.loc[ny_chargers[\"ZIP\"].isin(newyork_zips)])\n",
    "queens_chargers = pd.DataFrame(ny_chargers.loc[ny_chargers[\"ZIP\"].isin(queens_zips)])\n",
    "richmond_chargers = pd.DataFrame(ny_chargers.loc[ny_chargers[\"ZIP\"].isin(richmond_zips)])"
   ]
  },
  {
   "cell_type": "markdown",
   "id": "4aa414ad-01bf-4a2f-b36a-83cba0e9252c",
   "metadata": {},
   "source": [
    "Adding a county column and adding the respective county to it."
   ]
  },
  {
   "cell_type": "code",
   "execution_count": null,
   "id": "3796f355-3ec8-48bc-8de9-8da2e878372b",
   "metadata": {},
   "outputs": [],
   "source": [
    "bronx_chargers['County'] = \"BRONX\"\n",
    "kings_chargers['County'] = \"KINGS\"\n",
    "newyork_chargers['County'] = \"NEW YORK\"\n",
    "queens_chargers['County'] = \"QUEENS\"\n",
    "richmond_chargers['County'] = \"RICHMOND\""
   ]
  },
  {
   "cell_type": "markdown",
   "id": "38b4da14-0b64-4073-83e9-f78b5c719f89",
   "metadata": {},
   "source": [
    "Now I'm bring it all back together to create our dataframe of chargers in the city!"
   ]
  },
  {
   "cell_type": "code",
   "execution_count": null,
   "id": "31d878b5-e105-4cfe-be04-a24a6b5cdeec",
   "metadata": {},
   "outputs": [],
   "source": [
    "nyc_chargers = pd.concat([bronx_chargers, kings_chargers, newyork_chargers, queens_chargers, richmond_chargers])"
   ]
  },
  {
   "cell_type": "raw",
   "id": "b8e1840d-57c0-4912-9c5b-58f912132211",
   "metadata": {},
   "source": [
    "Now that the chargers are narrowed down to the city, it's time to make some pivot tables! First, I'll make a pivot table for the EVs in the city per county, then I'll make one to show the number of charging plugs per county."
   ]
  },
  {
   "cell_type": "code",
   "execution_count": null,
   "id": "d8a706c2-9b50-4700-9aca-daf188e2f3d7",
   "metadata": {},
   "outputs": [],
   "source": [
    "evs_pivot = nyc_evs.pivot_table(index='County', values='VIN', aggfunc='count').reset_index()\n",
    "evs_pivot.columns = ['County', 'Number of EVs']\n",
    "print(evs_pivot)"
   ]
  },
  {
   "cell_type": "code",
   "execution_count": null,
   "id": "cf689f4e-2199-47eb-a346-f8fbdcd9205c",
   "metadata": {
    "scrolled": true
   },
   "outputs": [],
   "source": [
    "chargers_pivot = nyc_chargers.pivot_table(index='County', values =['EV Level2 EVSE Num', 'EV DC Fast Count'], aggfunc='sum', fill_value=0).reset_index()\n",
    "chargers_pivot.columns = ['County', 'DC Fast', 'Level 2']\n",
    "print(chargers_pivot)"
   ]
  },
  {
   "cell_type": "markdown",
   "id": "2ab03be7-2f2d-49cc-9e66-2ff637eb4607",
   "metadata": {},
   "source": [
    "Now that the data is in nice, like-formatted pivot tables, it's time to merge and plot!"
   ]
  },
  {
   "cell_type": "code",
   "execution_count": null,
   "id": "828fb868-ae92-413f-91fc-5aff52380327",
   "metadata": {},
   "outputs": [],
   "source": [
    "nyc_ev_life = pd.merge(evs_pivot, chargers_pivot, on='County', how='outer')\n",
    "nyc_ev_life_df = pd.DataFrame(nyc_ev_life)\n",
    "print(nyc_ev_life_df)"
   ]
  },
  {
   "cell_type": "code",
   "execution_count": null,
   "id": "bc2d3e29-c69f-4450-8e6d-e2a0d9d767a2",
   "metadata": {},
   "outputs": [],
   "source": [
    "nyc_ev_life_df.to_csv('../outputs/NYC EV Life.csv', index=True)"
   ]
  },
  {
   "cell_type": "markdown",
   "id": "3d63eeaf-134e-459e-b46a-fce377359991",
   "metadata": {},
   "source": [
    "Setting the index as the county so that it appears as the proper label instead of 0, 1, 2..."
   ]
  },
  {
   "cell_type": "code",
   "execution_count": null,
   "id": "b369d83e-c63e-4329-86c4-9335a3f74e00",
   "metadata": {},
   "outputs": [],
   "source": [
    "nyc_ev_life_df.set_index('County', inplace=True)"
   ]
  },
  {
   "cell_type": "markdown",
   "id": "beb65322-3494-48d8-bc85-0f52bfde31c3",
   "metadata": {},
   "source": [
    "And now to plot! I chose a horizontal bar chart because it seemed the easiest to consume of the bar charts. Find more detailed descriptions of each line below."
   ]
  },
  {
   "cell_type": "code",
   "execution_count": null,
   "id": "ca9714bc-0397-491b-ada2-0601c72da0a7",
   "metadata": {},
   "outputs": [],
   "source": [
    "ax = nyc_ev_life_df.plot(kind='barh', figsize=(10,6), width=.8)\n",
    "##Setting all my labels and making sure they don't overhang.\n",
    "plt.title('EV Count vs. Charger Count by NYC County')\n",
    "plt.xlabel('Count')\n",
    "plt.ylabel('County')\n",
    "plt.tight_layout()\n",
    "\n",
    "##This was a bit confusing, but it displays the numbers on the graph. It sets a place for the text to go, then plots the associated integer\n",
    "for p in ax.patches:\n",
    "    ax.text(p.get_width() + 0.1, p.get_y() + p.get_height() /2,\n",
    "        str(int(p.get_width())),\n",
    "        horizontalalignment='left',\n",
    "        verticalalignment='center')\n",
    "##Saving...\n",
    "plt.savefig('../outputs/EV Chargers vs Vehicles Graph.jpg', format='jpg', bbox_inches='tight')"
   ]
  },
  {
   "cell_type": "code",
   "execution_count": null,
   "id": "2b578222-ab64-4782-892b-4c7a8ab6b853",
   "metadata": {},
   "outputs": [],
   "source": []
  },
  {
   "cell_type": "code",
   "execution_count": null,
   "id": "9db3b8b0-3c27-45e2-b383-4b77f9467d85",
   "metadata": {},
   "outputs": [],
   "source": []
  }
 ],
 "metadata": {
  "kernelspec": {
   "display_name": "Python 3 (ipykernel)",
   "language": "python",
   "name": "python3"
  },
  "language_info": {
   "codemirror_mode": {
    "name": "ipython",
    "version": 3
   },
   "file_extension": ".py",
   "mimetype": "text/x-python",
   "name": "python",
   "nbconvert_exporter": "python",
   "pygments_lexer": "ipython3",
   "version": "3.8.18"
  }
 },
 "nbformat": 4,
 "nbformat_minor": 5
}
